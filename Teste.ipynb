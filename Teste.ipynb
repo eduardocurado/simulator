{
 "cells": [
  {
   "cell_type": "code",
   "execution_count": 1,
   "metadata": {},
   "outputs": [
    {
     "data": {
      "application/vnd.jupyter.widget-view+json": {
       "model_id": "bcc46e649fd24c5c994944d540e0b6f8",
       "version_major": 2,
       "version_minor": 0
      },
      "text/plain": [
       "Text(value='2%', description='Margem:', placeholder='2%', style=DescriptionStyle(description_width='initial'))"
      ]
     },
     "metadata": {},
     "output_type": "display_data"
    },
    {
     "data": {
      "application/vnd.jupyter.widget-view+json": {
       "model_id": "0a592c5ce70e4a22afc62fea73e646c8",
       "version_major": 2,
       "version_minor": 0
      },
      "text/plain": [
       "Output()"
      ]
     },
     "metadata": {},
     "output_type": "display_data"
    }
   ],
   "source": [
    "from IPython import display\n",
    "from ipywidgets import widgets\n",
    "import matplotlib.pyplot as plt\n",
    "import numpy as np\n",
    "import pandas as pd\n",
    "from random import randint\n",
    "import math\n",
    "from pandas.tseries.offsets import MonthEnd, MonthBegin\n",
    "\n",
    "class Cashflow_simulation:\n",
    "    \n",
    "    def __init__(self):\n",
    "        style = {'description_width': 'initial'}\n",
    "        self.marging_industry_text = widgets.Text(description='Margem:', placeholder=\"2%\", value=\"2%\", style=style)\n",
    "        self.out = widgets.Output()\n",
    "        display.display(self.marging_industry_text, self.out)\n",
    "        \n",
    "        \n",
    "cf = Cashflow_simulation()"
   ]
  }
 ],
 "metadata": {
  "kernelspec": {
   "display_name": "analytics",
   "language": "python",
   "name": "analytics"
  },
  "language_info": {
   "codemirror_mode": {
    "name": "ipython",
    "version": 3
   },
   "file_extension": ".py",
   "mimetype": "text/x-python",
   "name": "python",
   "nbconvert_exporter": "python",
   "pygments_lexer": "ipython3",
   "version": "3.6.9"
  }
 },
 "nbformat": 4,
 "nbformat_minor": 4
}
