{
 "cells": [
  {
   "cell_type": "code",
   "execution_count": 5,
   "metadata": {},
   "outputs": [
    {
     "data": {
      "application/vnd.jupyter.widget-view+json": {
       "model_id": "c4cfae987bbb40b3b50d48d9c89f43fa",
       "version_major": 2,
       "version_minor": 0
      },
      "text/plain": [
       "VBox(children=(Text(value='2%', description='Margem:', placeholder='2%', style=DescriptionStyle(description_wi…"
      ]
     },
     "metadata": {},
     "output_type": "display_data"
    },
    {
     "data": {
      "application/vnd.jupyter.widget-view+json": {
       "model_id": "8a21e1705be04c21bd51ccb1c6179ef3",
       "version_major": 2,
       "version_minor": 0
      },
      "text/plain": [
       "Output()"
      ]
     },
     "metadata": {},
     "output_type": "display_data"
    }
   ],
   "source": [
    "from IPython import display\n",
    "from ipywidgets import widgets\n",
    "import matplotlib.pyplot as plt\n",
    "import numpy as np\n",
    "import pandas as pd\n",
    "from random import randint\n",
    "import math\n",
    "from pandas.tseries.offsets import MonthEnd, MonthBegin\n",
    "\n",
    "class Cashflow_simulation:\n",
    "    \n",
    "    def __init__(self):\n",
    "        style = {'description_width': 'initial'}\n",
    "        self.marging_industry_text = widgets.Text(description='Margem:', placeholder=\"2%\", value=\"2%\", style=style)\n",
    "        self.out = widgets.Output()\n",
    "        self.uploader = widgets.FileUpload(accept= '.csv', multiple=False)\n",
    "        \n",
    "        display.display(widgets.VBox([self.marging_industry_text, self.uploader] , layout=widgets.Layout(border='3px solid white')), self.out)\n",
    "        \n",
    "        \n",
    "cf = Cashflow_simulation()"
   ]
  },
  {
   "cell_type": "code",
   "execution_count": null,
   "metadata": {},
   "outputs": [],
   "source": []
  }
 ],
 "metadata": {
  "kernelspec": {
   "display_name": "analytics",
   "language": "python",
   "name": "analytics"
  },
  "language_info": {
   "codemirror_mode": {
    "name": "ipython",
    "version": 3
   },
   "file_extension": ".py",
   "mimetype": "text/x-python",
   "name": "python",
   "nbconvert_exporter": "python",
   "pygments_lexer": "ipython3",
   "version": "3.6.9"
  }
 },
 "nbformat": 4,
 "nbformat_minor": 4
}
