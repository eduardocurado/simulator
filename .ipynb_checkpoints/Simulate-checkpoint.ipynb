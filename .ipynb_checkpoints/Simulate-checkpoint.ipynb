{
 "cells": [
  {
   "cell_type": "code",
   "execution_count": null,
   "metadata": {},
   "outputs": [],
   "source": [
    "# R$ 30 - 300 MM"
   ]
  },
  {
   "cell_type": "code",
   "execution_count": 1,
   "metadata": {},
   "outputs": [],
   "source": [
    "from IPython import display\n",
    "from ipywidgets import widgets"
   ]
  },
  {
   "cell_type": "code",
   "execution_count": 2,
   "metadata": {},
   "outputs": [],
   "source": [
    "import matplotlib.pyplot as plt\n",
    "import numpy as np\n",
    "import pandas as pd\n",
    "from random import randint"
   ]
  },
  {
   "cell_type": "code",
   "execution_count": 3,
   "metadata": {},
   "outputs": [],
   "source": [
    "# Get Generic Year\n",
    "def get_generic_year(working_days_month=None, months=None):\n",
    "    working_days = [i for i in range(1, working_days_month + 1)]\n",
    "    month_year = [i for i in range(1, months + 1)]\n",
    "    df_year = pd.DataFrame()\n",
    "    for m in month_year:\n",
    "        df = pd.DataFrame(columns=[\"working_day\"], data=working_days)\n",
    "        df[\"month\"] = m\n",
    "        df_year = pd.concat([df_year, df])\n",
    "        \n",
    "    return df_year"
   ]
  },
  {
   "cell_type": "code",
   "execution_count": 4,
   "metadata": {},
   "outputs": [],
   "source": [
    "def get_random_week_value(df, column, week_day=None):\n",
    "    if week_day is None:\n",
    "        week_day = randint(1, 5)\n",
    "    \n",
    "    df.loc[df[\"index\"] % 5 == (5 - week_day), \"week\"] = 1\n",
    "    df[\"week\"] = df[\"week\"].cumsum()\n",
    "    df[\"week\"].fillna(method=\"bfill\", inplace=True)\n",
    "    df[f\"{column}_per_week\"] = df.groupby(\"week\")[column].cumsum()\n",
    "    df[\"max_value\"] = df.groupby(\"week\")[f\"{column}_per_week\"].transform(\"max\")\n",
    "    df.loc[df[f\"{column}_per_week\"] != df[\"max_value\"], f\"{column}_per_week\"] = 0\n",
    "    df.drop(columns=[\"max_value\", \"week\"], inplace=True)\n",
    "\n",
    "    return df\n"
   ]
  },
  {
   "cell_type": "code",
   "execution_count": 48,
   "metadata": {},
   "outputs": [],
   "source": [
    "def set_sine_to_value(df, col, f=12, amplitude=0.25, pick_values=[]):\n",
    "    total_value = df[col].sum()\n",
    "    even_pick = [x for x in pick_values if x % 2 == 0]\n",
    "    odd_pick = [x for x in pick_values if x % 2 == 1]\n",
    "    Fs = len(df)\n",
    "    sample = len(df)\n",
    "    x = np.arange(sample)\n",
    "    y_odd =  np.sin(np.pi * f * x / Fs )\n",
    "    y_even =  -np.sin(np.pi * f * x / Fs )\n",
    "\n",
    "    df[\"value_even\"] = (1 + y_even * amplitude) * df[col]\n",
    "    df[\"value_odd\"] = (1 + y_odd * amplitude) * df[col]\n",
    "    \n",
    "    df.loc[~df[\"month\"].isin(even_pick), \"value_even\"] = 0\n",
    "    df.loc[~df[\"month\"].isin(odd_pick), \"value_odd\"] = 0\n",
    "    \n",
    "    df[\"value\"] = df[\"value_even\"] + df[\"value_odd\"]\n",
    "    max_value = df.loc[df[\"month\"].isin(pick_values), \"value\"].sum()\n",
    "    \n",
    "    if max_value > total_value:\n",
    "        df[\"value\"] = df[\"value\"] - (max_value - total_value)/len(df)\n",
    "    remaining_fat = 0\n",
    "    if (len(df) - len(pick_values) * 22 > 0):\n",
    "        remaining_fat = max(0, (total_value - max_value))/(len(df) - len(pick_values) * 22)\n",
    "        \n",
    "    df.loc[~df[\"month\"].isin(pick_values), \"value\"] = remaining_fat\n",
    "    \n",
    "    return df[\"value\"]"
   ]
  },
  {
   "cell_type": "code",
   "execution_count": 49,
   "metadata": {},
   "outputs": [],
   "source": [
    "def split_nfes_values(df, days_in_between, column):\n",
    "    list_terms = [l for l in days_in_between if l is not None and l > 0]\n",
    "    num_receivables_income = len(list_terms)\n",
    "\n",
    "    df[\"receivable_value\"] = df[column]/num_receivables_income\n",
    "    cols_par = []\n",
    "    for e, d in enumerate(days_in_between):\n",
    "        df[f\"receivable_split_{e}\"] = df[\"receivable_value\"].shift(days_in_between[e])\n",
    "        cols_par.append(f\"receivable_split_{e}\")\n",
    "    df.fillna(0, inplace=True)\n",
    "    df[\"total\"] = df[cols_par].sum(axis=1)\n",
    "    \n",
    "    return df[\"total\"]\n",
    "    \n",
    "    "
   ]
  },
  {
   "cell_type": "code",
   "execution_count": 77,
   "metadata": {},
   "outputs": [],
   "source": [
    "class Cashflow_simulation:\n",
    "    \n",
    "    def __init__(self):\n",
    "        style = {'description_width': 'initial'}\n",
    "        self.marging_industry_text = widgets.Text(description='Margem:', placeholder=\"3%\", value=\"3%\", style=style)\n",
    "        self.income_per_year_text = widgets.IntText(description='Fat. Anual (K):', placeholder=15, value=30000, style=style)\n",
    "        self.num_employees_text = widgets.IntText(description='# Funcionários:', placeholder=120, value=120, style=style)\n",
    "        self.avg_salary_text = widgets.IntText(description='Salário Médio (K):', placeholder=4, value=4, style=style)\n",
    "        self.percentage_receivables_text = widgets.Text(description='% Fornecedores:', placeholder=\"70%\", value=\"70%\", style=style)\n",
    "        self.cash_text = widgets.IntText(description='$ Caixa (K):', placeholder=1500, value=1500, style=style)\n",
    "        self.working_days_month_text = widgets.IntText(description='Dias Úteis:', placeholder=22, value=22, style=style)\n",
    "        self.months_text = widgets.IntText(description='Meses:', placeholder=12, value=12, style=style)\n",
    "        self.avg_lenght_seller_1 = widgets.IntText(description='Parcela 1:', placeholder=22, value=22, style=style)\n",
    "        self.avg_lenght_seller_2 = widgets.IntText(description='Parcela 2:', placeholder=35, value=35, style=style)\n",
    "        self.avg_lenght_seller_3 = widgets.IntText(description='Parcela 3:', placeholder=47, value=47, style=style)\n",
    "        self.avg_lenght_seller_4 = widgets.IntText(description='Parcela 4:', style=style)\n",
    "        self.avg_lenght_seller_5 = widgets.IntText(description='Parcela 5:', style=style)\n",
    "        \n",
    "        self.avg_lenght_buyer_1 = widgets.IntText(description='Parcela 1:', placeholder=22, value=22, style=style)\n",
    "        self.avg_lenght_buyer_2 = widgets.IntText(description='Parcela 2:', placeholder=35, value=35, style=style)\n",
    "        self.avg_lenght_buyer_3 = widgets.IntText(description='Parcela 3:', placeholder=47, value=47, style=style)\n",
    "        self.avg_lenght_buyer_4 = widgets.IntText(description='Parcela 4:', style=style)\n",
    "        self.avg_lenght_buyer_5 = widgets.IntText(description='Parcela 5:', style=style)\n",
    "        \n",
    "        # Tempo de estoque em dias\n",
    "        \n",
    "        self.months_check = []\n",
    "        self.month_boxs = []\n",
    "        months = [\"Jan\", \"Fev\", \"Mar\", \"Abr\", \"Mai\", \"Jun\",\n",
    "                 \"Jul\", \"Ago\", \"Set\", \"Out\", \"Nov\", \"Dez\"]\n",
    "        \n",
    "        for e, m in enumerate(months):\n",
    "            self.months_check.append(widgets.Checkbox(description=f\"{m}\", value=False, indent=False))\n",
    "            if (e + 1) % 3 == 0:\n",
    "                self.month_box = widgets.VBox(self.months_check)\n",
    "                self.month_boxs.append(self.month_box)\n",
    "                self.months_check = []\n",
    "            \n",
    "            \n",
    "        self.month_boxes = widgets.HBox(self.month_boxs)\n",
    "        self.df = None\n",
    "        \n",
    "        self.out = widgets.Output()\n",
    "        \n",
    "        \n",
    "        \n",
    "        self.box_inputs = widgets.VBox([\n",
    "            widgets.HTML(\"<center><b>Informações Empresa:\"),\n",
    "            self.marging_industry_text,\n",
    "            self.income_per_year_text,\n",
    "            self.num_employees_text,\n",
    "           self.avg_salary_text,\n",
    "            self.percentage_receivables_text,\n",
    "            self.cash_text,\n",
    "            self.working_days_month_text,\n",
    "            self.months_text\n",
    "                           ])\n",
    "        \n",
    "        self.box_nfes_seller = widgets.VBox([\n",
    "            widgets.HTML(\"<center><b>Parcelas pagamento Sacados:\"),\n",
    "            self.avg_lenght_seller_1,\n",
    "            self.avg_lenght_seller_2,\n",
    "            self.avg_lenght_seller_3,\n",
    "            self.avg_lenght_seller_4,\n",
    "            self.avg_lenght_seller_5,\n",
    "        ])\n",
    "        \n",
    "        self.box_nfes_buyer = widgets.VBox([\n",
    "            widgets.HTML(\"<center><b>Parcelas pagamento Fornecedores:\"),\n",
    "            self.avg_lenght_buyer_1,\n",
    "            self.avg_lenght_buyer_2,\n",
    "            self.avg_lenght_buyer_3,\n",
    "            self.avg_lenght_buyer_4,\n",
    "            self.avg_lenght_buyer_5,\n",
    "        ])\n",
    "        \n",
    "        self.box = widgets.HBox([\n",
    "            self.box_inputs, widgets.HBox([self.box_nfes_seller, self.box_nfes_buyer])\n",
    "        ])\n",
    "        \n",
    "        \n",
    "        button = widgets.Button(description=\"Click Me!\")\n",
    "        display.display(self.box, widgets.VBox([widgets.HTML(\"<b>Meses com maior Faturamento:\"), self.month_boxes]), button, self.out)\n",
    "\n",
    "        def on_button_clicked(b):\n",
    "            with self.out:\n",
    "                self.on_button_clicked()\n",
    "\n",
    "        button.on_click(on_button_clicked)\n",
    "        \n",
    "        \n",
    "        \n",
    "\n",
    "    def on_button_clicked(self):\n",
    "        with self.out:\n",
    "            self.out.clear_output()\n",
    "            \n",
    "            pick_values = []\n",
    "            for e, x in enumerate(self.month_boxs):\n",
    "                for i, y in enumerate(x.children):\n",
    "                    if y.value is True:\n",
    "                        pick_values.append(((e) * 3) + (i + 1))\n",
    "            \n",
    "            if pick_values == []:\n",
    "                pick_values = list(range(1, 13))\n",
    "            \n",
    "        \n",
    "            # Get Initial Input Values\n",
    "\n",
    "            marging_industry = float(self.marging_industry_text.value.replace(\"%\", \"\").strip())/100\n",
    "            income_per_year = self.income_per_year_text.value\n",
    "            num_employees = self.num_employees_text.value\n",
    "            avg_salary = self.avg_salary_text.value # $ Annual total package / 12 months\n",
    "\n",
    "            percentage_receivables = float(self.percentage_receivables_text.value.replace(\"%\", \"\").strip())/100\n",
    "            cash = self.cash_text.value\n",
    "\n",
    "            working_days_month = self.working_days_month_text.value\n",
    "            months = self.months_text.value\n",
    "            \n",
    "\n",
    "            expense_salary = num_employees * avg_salary * 1.3 # salary factor\n",
    "            annual_expense_salary = expense_salary * 12\n",
    "            cost_per_year = (income_per_year/(1 + marging_industry))\n",
    "            mean_cost_per_month = cost_per_year/12\n",
    "            annual_cost_receivables = (cost_per_year - annual_expense_salary) * percentage_receivables \n",
    "            annual_other_expenses = (cost_per_year - annual_expense_salary) * (1 - percentage_receivables)\n",
    "\n",
    "            df_year = get_generic_year(working_days_month, months)\n",
    "\n",
    "            df_year[\"receivables_per_day\"] = annual_cost_receivables/12/working_days_month\n",
    "            df_year[\"other_expenses_per_day\"] = annual_other_expenses/12/working_days_month\n",
    "            df_year[\"salary\"] = 0\n",
    "\n",
    "            working_day_salary = working_days_month\n",
    "            df_year.loc[df_year[\"working_day\"] == working_days_month, \"salary\"] = expense_salary\n",
    "            df_year.reset_index(inplace=True)\n",
    "            df_year[\"index\"] += 1\n",
    "            \n",
    "            df_year.reset_index(inplace=True)\n",
    "            print(f\"Monthly Company Size: R$ {income_per_year/12} K\\nCost Per Month: R$ {round(mean_cost_per_month, 2)} K\\nSalary: R$ {expense_salary} K (Day 1)\\nCaixa: R$ {cash} K\")\n",
    "            \n",
    "#             df_year.loc[df_year[\"month\"] == 1, \"other_expenses_per_day\"] = 0\n",
    "            mean_daily_income = income_per_year/12/working_days_month\n",
    "            df_year[\"income_per_day\"] = mean_daily_income\n",
    "            \n",
    "            df_year[\"receivables_per_day_sine_per_week\"] = set_sine_to_value(df_year.copy(), \"receivables_per_day\", f=months, pick_values= pick_values)\n",
    "            df_year[\"income_per_day_sine_per_week\"] = set_sine_to_value(df_year.copy(), \"income_per_day\", f=months, pick_values=pick_values)\n",
    "            df_year[\"other_expenses_per_day_sine_per_week\"] = set_sine_to_value(df_year.copy(), \"other_expenses_per_day\", f=0)\n",
    "            \n",
    "#             df_year = get_random_week_value(df_year, \"receivables_per_day_sine\", 5)\n",
    "#             df_year = get_random_week_value(df_year, \"income_per_day_sine\")\n",
    "#             df_year = get_random_week_value(df_year, \"other_expenses_per_day_sine\")\n",
    "            \n",
    "            # How receivables are paid from buyers\n",
    "            days_in_between_seller = [self.avg_lenght_seller_1.value,\n",
    "                               self.avg_lenght_seller_2.value,\n",
    "                               self.avg_lenght_seller_3.value,\n",
    "                               self.avg_lenght_seller_4.value,\n",
    "                               self.avg_lenght_seller_5.value]\n",
    "            days_in_between_buyer = [self.avg_lenght_buyer_1.value,\n",
    "                               self.avg_lenght_buyer_2.value,\n",
    "                               self.avg_lenght_buyer_3.value,\n",
    "                               self.avg_lenght_buyer_4.value,\n",
    "                               self.avg_lenght_buyer_5.value]\n",
    "            \n",
    "            # How receivables are paid for sellers\n",
    "            df_year[\"receivable_income\"] = split_nfes_values(df_year.copy(), days_in_between=days_in_between_seller, column=\"income_per_day_sine_per_week\")\n",
    "            df_year[\"receivable_cost\"] = split_nfes_values(df_year.copy(), days_in_between=days_in_between_buyer, column=\"receivables_per_day_sine_per_week\")\n",
    "\n",
    "            df_year[\"cost_per_day_sine\"] = df_year[\"other_expenses_per_day_sine_per_week\"] + df_year[\"receivable_cost\"] + df_year[\"salary\"]\n",
    "            df_year[\"cost_book_per_day_sine\"] = df_year[\"other_expenses_per_day_sine_per_week\"] + df_year[\"receivables_per_day_sine_per_week\"] + df_year[\"salary\"]\n",
    "\n",
    "            df_year[\"cash\"] = 0\n",
    "            df_year.loc[0, \"cash\"] = cash\n",
    "\n",
    "            df_year[\"cost_cumsum\"] = (df_year[\"cost_per_day_sine\"]).cumsum()\n",
    "            df_year[\"income_cumsum\"] = (df_year[\"receivable_income\"] + df_year[\"cash\"]).cumsum()\n",
    "\n",
    "            df_year[\"cost_book_cumsum\"] = df_year[\"cost_book_per_day_sine\"].cumsum()\n",
    "            df_year[\"income_book_cumsum\"] = (df_year[\"income_per_day_sine_per_week\"] + df_year[\"cash\"]).cumsum()\n",
    "            df_cashflow = df_year.loc[:, [\"working_day\", \"month\", \"cost_cumsum\", \"income_cumsum\", \"cost_book_cumsum\", \"income_book_cumsum\",\n",
    "                                         \"income_per_day_sine_per_week\", \"cost_book_per_day_sine\"]]\n",
    "            df_cashflow.reset_index(inplace=True)\n",
    "    \n",
    "            df_cashflow[\"net\"] = df_cashflow[\"income_cumsum\"] - df_cashflow[\"cost_cumsum\"]\n",
    "            df_cashflow[\"net_book\"] = df_cashflow[\"income_book_cumsum\"] - df_cashflow[\"cost_book_cumsum\"]\n",
    "\n",
    "            NUM_ROWS = 2\n",
    "            IMGs_IN_ROW = 2\n",
    "            f, ax = plt.subplots(NUM_ROWS, IMGs_IN_ROW, figsize=(16,8))\n",
    "            \n",
    "            ax[0][0].bar(df_cashflow[\"index\"], df_cashflow[\"net\"])\n",
    "            ax[0][1].bar(df_cashflow[\"index\"], df_cashflow[\"net_book\"])\n",
    "            ax[1][0].plot(df_cashflow[\"index\"], df_cashflow[\"income_per_day_sine_per_week\"])\n",
    "            ax[1][1].plot(df_cashflow[\"index\"], df_cashflow[\"cost_book_per_day_sine\"])\n",
    "\n",
    "            ax[0][0].set_title('Available Cash Per Day - Cashflow')\n",
    "            ax[0][1].set_title('Available Cash Per Day - Book Value')\n",
    "            ax[1][0].set_title('Revenue')\n",
    "            ax[1][1].set_title('Cost')\n",
    "\n",
    "            title = 'Cashflow Comparison: Real x Book Value'\n",
    "            f.suptitle(title, fontsize=16)\n",
    "#             plt.gca().set_ylim(bottom=0)\n",
    "            plt.show()\n",
    "            df_year.to_csv(\"annual_cashflow_raw.csv\", sep=\";\", decimal=',', index=False)\n",
    "            df_cashflow.to_csv(\"annual_cashflow.csv\", sep=\";\", decimal=',', index=False)\n",
    "            \n",
    "            display.display(df_year[[\"income_per_day_sine_per_week\", \"cost_book_per_day_sine\"]].sum(),\n",
    "                            df_year[\"income_per_day_sine_per_week\"].sum()/df_year[\"cost_book_per_day_sine\"].sum() - 1)\n",
    "            return df_year"
   ]
  },
  {
   "cell_type": "code",
   "execution_count": 78,
   "metadata": {},
   "outputs": [
    {
     "data": {
      "application/vnd.jupyter.widget-view+json": {
       "model_id": "f8607211cb4c46ffacc10766b1949a3f",
       "version_major": 2,
       "version_minor": 0
      },
      "text/plain": [
       "HBox(children=(VBox(children=(HTML(value='<center><b>Informações Empresa:'), Text(value='3%', description='Mar…"
      ]
     },
     "metadata": {},
     "output_type": "display_data"
    },
    {
     "data": {
      "application/vnd.jupyter.widget-view+json": {
       "model_id": "a6a6d745e4c148b886a23a60b81b8f96",
       "version_major": 2,
       "version_minor": 0
      },
      "text/plain": [
       "VBox(children=(HTML(value='<b>Meses com maior Faturamento:'), HBox(children=(VBox(children=(Checkbox(value=Fal…"
      ]
     },
     "metadata": {},
     "output_type": "display_data"
    },
    {
     "data": {
      "application/vnd.jupyter.widget-view+json": {
       "model_id": "97c29912ec0c4e0dbf8bc722ac4d1431",
       "version_major": 2,
       "version_minor": 0
      },
      "text/plain": [
       "Button(description='Click Me!', style=ButtonStyle())"
      ]
     },
     "metadata": {},
     "output_type": "display_data"
    },
    {
     "data": {
      "application/vnd.jupyter.widget-view+json": {
       "model_id": "9b0fb30f72ff4f56887f19c9969fc95f",
       "version_major": 2,
       "version_minor": 0
      },
      "text/plain": [
       "Output()"
      ]
     },
     "metadata": {},
     "output_type": "display_data"
    },
    {
     "data": {
      "text/plain": [
       "<__main__.Cashflow_simulation at 0x7f73e6fe7438>"
      ]
     },
     "execution_count": 78,
     "metadata": {},
     "output_type": "execute_result"
    }
   ],
   "source": [
    "Cashflow_simulation()"
   ]
  },
  {
   "cell_type": "code",
   "execution_count": null,
   "metadata": {},
   "outputs": [],
   "source": [
    "# Total cost shoulbd be on receivables to pay, other common expenses (randomly distributed in month) and expense with salary\n",
    "# mean_cost_per_month = receivables + salary + other expeses"
   ]
  }
 ],
 "metadata": {
  "kernelspec": {
   "display_name": "analytics",
   "language": "python",
   "name": "analytics"
  },
  "language_info": {
   "codemirror_mode": {
    "name": "ipython",
    "version": 3
   },
   "file_extension": ".py",
   "mimetype": "text/x-python",
   "name": "python",
   "nbconvert_exporter": "python",
   "pygments_lexer": "ipython3",
   "version": "3.6.9"
  }
 },
 "nbformat": 4,
 "nbformat_minor": 4
}
